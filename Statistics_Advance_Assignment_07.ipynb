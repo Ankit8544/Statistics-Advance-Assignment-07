{
 "cells": [
  {
   "cell_type": "markdown",
   "metadata": {},
   "source": [
    "Q.No-01    Write a Python function that takes in two arrays of data and calculates the F-value for a variance ratio test. The function should return the F-value and the corresponding p-value for the test."
   ]
  },
  {
   "cell_type": "markdown",
   "metadata": {},
   "source": [
    "Ans :-"
   ]
  },
  {
   "cell_type": "code",
   "execution_count": 1,
   "metadata": {},
   "outputs": [
    {
     "name": "stdout",
     "output_type": "stream",
     "text": [
      "F-value: 0.9191176470588235\n",
      "p-value: 0.5315904801131142\n"
     ]
    }
   ],
   "source": [
    "import scipy.stats as stats\n",
    "\n",
    "def variance_ratio_test(data1, data2):\n",
    "    n1 = len(data1)\n",
    "    n2 = len(data2)\n",
    "    \n",
    "    variance1 = sum((x - sum(data1) / n1) ** 2 for x in data1) / (n1 - 1)\n",
    "    variance2 = sum((x - sum(data2) / n2) ** 2 for x in data2) / (n2 - 1)\n",
    "    \n",
    "    f_value = variance1 / variance2\n",
    "    degrees_of_freedom1 = n1 - 1\n",
    "    degrees_of_freedom2 = n2 - 1\n",
    "    \n",
    "    p_value = 1 - stats.f.cdf(f_value, degrees_of_freedom1, degrees_of_freedom2)\n",
    "    \n",
    "    return f_value, p_value\n",
    "\n",
    "\n",
    "data1 = [10, 15, 20, 25, 30]\n",
    "data2 = [8, 12, 18, 24, 28]\n",
    "f_value, p_value = variance_ratio_test(data1, data2)\n",
    "print(\"F-value:\", f_value)\n",
    "print(\"p-value:\", p_value)\n"
   ]
  },
  {
   "cell_type": "markdown",
   "metadata": {},
   "source": [
    "Q.No-02    Given a significance level of 0.05 and the degrees of freedom for the numerator and denominator of an F-distribution, write a Python function that returns the critical F-value for a two-tailed test."
   ]
  },
  {
   "cell_type": "markdown",
   "metadata": {},
   "source": [
    "Ans :-"
   ]
  },
  {
   "cell_type": "code",
   "execution_count": 2,
   "metadata": {},
   "outputs": [
    {
     "name": "stdout",
     "output_type": "stream",
     "text": [
      "Critical F-values:- \n",
      "\t\tleft tail = 0.06935321586551409 \n",
      "\t\tright tail = 4.825621493405406\n"
     ]
    }
   ],
   "source": [
    "import scipy.stats as stats\n",
    "\n",
    "def critical_f_value(alpha, df1, df2):\n",
    "    right_critical_value = stats.f.ppf(1 - alpha / 2, df1, df2)\n",
    "    left_critical_value = stats.f.ppf(alpha / 2, df1, df2)\n",
    "    return left_critical_value, right_critical_value\n",
    "\n",
    "\n",
    "alpha = 0.05\n",
    "df1 = 3  # Degrees of freedom for the numerator\n",
    "df2 = 10  # Degrees of freedom for the denominator\n",
    "\n",
    "left_critical, right_critical = critical_f_value(alpha, df1, df2)\n",
    "print(f\"Critical F-values:- \\n\\t\\tleft tail = {left_critical} \\n\\t\\tright tail = {right_critical}\")"
   ]
  },
  {
   "cell_type": "markdown",
   "metadata": {},
   "source": [
    "--------------------------------------------------------------------------------------------------------------------"
   ]
  },
  {
   "cell_type": "markdown",
   "metadata": {},
   "source": [
    "Q.No-03    Write a Python program that generates random samples from two normal distributions with known variances and uses an F-test to determine if the variances are equal. The program should output the Fvalue, degrees of freedom, and p-value for the test."
   ]
  },
  {
   "cell_type": "markdown",
   "metadata": {},
   "source": [
    "Ans :-"
   ]
  },
  {
   "cell_type": "code",
   "execution_count": 3,
   "metadata": {},
   "outputs": [
    {
     "name": "stdout",
     "output_type": "stream",
     "text": [
      "Define the parameters of the two normal distributions :-\n",
      "\n",
      "\tMean of the first distribution = 0\n",
      "\tVariance of the first distribution = 1\n",
      "\tMean of the second distribution = 0\n",
      "\tVariance of the second distribution = 2\n",
      "\n",
      "Generate random samples from the two normal distributions :-\n",
      "\n",
      "\tSample Size = 50\n",
      "\n",
      "Samples generated First Distribution :- \n"
     ]
    },
    {
     "data": {
      "text/plain": [
       "array([ 0.49671415, -0.1382643 ,  0.64768854,  1.52302986, -0.23415337,\n",
       "       -0.23413696,  1.57921282,  0.76743473, -0.46947439,  0.54256004,\n",
       "       -0.46341769, -0.46572975,  0.24196227, -1.91328024, -1.72491783,\n",
       "       -0.56228753, -1.01283112,  0.31424733, -0.90802408, -1.4123037 ,\n",
       "        1.46564877, -0.2257763 ,  0.0675282 , -1.42474819, -0.54438272,\n",
       "        0.11092259, -1.15099358,  0.37569802, -0.60063869, -0.29169375,\n",
       "       -0.60170661,  1.85227818, -0.01349722, -1.05771093,  0.82254491,\n",
       "       -1.22084365,  0.2088636 , -1.95967012, -1.32818605,  0.19686124,\n",
       "        0.73846658,  0.17136828, -0.11564828, -0.3011037 , -1.47852199,\n",
       "       -0.71984421, -0.46063877,  1.05712223,  0.34361829, -1.76304016])"
      ]
     },
     "metadata": {},
     "output_type": "display_data"
    },
    {
     "name": "stdout",
     "output_type": "stream",
     "text": [
      "Samples generated Second Distribution :- \n"
     ]
    },
    {
     "data": {
      "text/plain": [
       "array([ 0.45832394, -0.54458858, -0.95731227,  0.8650409 ,  1.45805351,\n",
       "        1.31702897, -1.1868328 , -0.43729234,  0.46847724,  1.37962915,\n",
       "       -0.67765471, -0.26256144, -1.56459392, -1.69169163,  1.14908504,\n",
       "        1.91801304, -0.10183769,  1.41920983,  0.51143057, -0.91233711,\n",
       "        0.51109057,  2.17511217, -0.05066567,  2.21274028, -3.70487906,\n",
       "        1.16234567,  0.12310314, -0.42286025,  0.12976933, -2.81084692,\n",
       "       -0.31066296,  0.50503344,  2.0900578 , -0.73294477, -1.14338262,\n",
       "       -0.70959162,  1.29457409,  0.46492428, -0.74919406,  0.72586977,\n",
       "        0.13728839,  1.36987088, -0.99285301, -0.46338425, -0.55452467,\n",
       "       -2.06972269,  0.41877731,  0.36918791,  0.00723152, -0.33175631])"
      ]
     },
     "metadata": {},
     "output_type": "display_data"
    },
    {
     "name": "stdout",
     "output_type": "stream",
     "text": [
      "\n",
      "Calculation :-\n",
      "\tF-value = 0.5701772691968628\n",
      "\tDegrees of Freedom (numerator, denominator) = 49, 49\n",
      "\tP-value = 0.9740369803378406\n",
      "\n",
      "Conclusion :-\n",
      "\tFail to reject the null hypothesis: \n",
      "\t\t\t\t\tVariances are equal.\n"
     ]
    }
   ],
   "source": [
    "import numpy as np\n",
    "from scipy.stats import f\n",
    "\n",
    "# Set the seed for reproducibility\n",
    "np.random.seed(42)\n",
    "\n",
    "print(\"Define the parameters of the two normal distributions :-\")\n",
    "mean1 = 0\n",
    "print(f\"\\n\\tMean of the first distribution = {mean1}\")\n",
    "variance1 = 1\n",
    "print(f\"\\tVariance of the first distribution = {variance1}\")\n",
    "mean2 = 0  \n",
    "print(f\"\\tMean of the second distribution = {mean2}\")\n",
    "variance2 = 2\n",
    "print(f\"\\tVariance of the second distribution = {variance2}\")\n",
    "\n",
    "print(\"\\nGenerate random samples from the two normal distributions :-\")\n",
    "sample_size = 50\n",
    "print(f\"\\n\\tSample Size = {sample_size}\")\n",
    "sample1 = np.random.normal(mean1, np.sqrt(variance1), sample_size)\n",
    "print(f\"\\nSamples generated First Distribution :- \")\n",
    "display(sample1)\n",
    "sample2 = np.random.normal(mean2, np.sqrt(variance2), sample_size)\n",
    "print('Samples generated Second Distribution :- ')\n",
    "display(sample2)\n",
    "\n",
    "\n",
    "print(\"\\nCalculation :-\")\n",
    "# Calculate the F-value, degrees of freedom, and p-value for the F-test\n",
    "F_statistic = np.var(sample1, ddof=1) / np.var(sample2, ddof=1)\n",
    "df1 = sample_size - 1\n",
    "df2 = sample_size - 1\n",
    "p_value = 1 - f.cdf(F_statistic, df1, df2)\n",
    "\n",
    "# Print the results\n",
    "print(f\"\\tF-value = {F_statistic}\")\n",
    "print(f\"\\tDegrees of Freedom (numerator, denominator) = {df1}, {df2}\")\n",
    "print(f\"\\tP-value = {p_value}\")\n",
    "\n",
    "# Determine whether to reject the null hypothesis (equal variances)\n",
    "alpha = 0.05  # Adjust the significance level as needed\n",
    "\n",
    "print(\"\\nConclusion :-\")\n",
    "if p_value < alpha:\n",
    "    print(\"\\tReject the null hypothesis: \\n\\t\\t\\t\\t\\tVariances are not equal.\")\n",
    "else:\n",
    "    print(\"\\tFail to reject the null hypothesis: \\n\\t\\t\\t\\t\\tVariances are equal.\")"
   ]
  },
  {
   "cell_type": "markdown",
   "metadata": {},
   "source": [
    "--------------------------------------------------------------------------------------------------------------------"
   ]
  },
  {
   "cell_type": "markdown",
   "metadata": {},
   "source": [
    "Q.No-04    The variances of two populations are known to be 10 and 15. A sample of 12 observations is taken from each population. Conduct an F-test at the 5% significance level to determine if the variances are significantly different."
   ]
  },
  {
   "cell_type": "markdown",
   "metadata": {},
   "source": [
    "Ans :-"
   ]
  },
  {
   "cell_type": "code",
   "execution_count": 4,
   "metadata": {},
   "outputs": [
    {
     "name": "stdout",
     "output_type": "stream",
     "text": [
      "Given :-\n",
      "\tVariance of Frist Populations = 10\n",
      "\tVariance of Second Population = 15\n",
      "\tSample Size of Frist Populations = 12\n",
      "\tSample Size of Second Population = 12\n",
      "\n",
      "Generate random samples from the populations (you can replace this with your actual data) :-\n",
      "\n",
      "First Population Data :-\n"
     ]
    },
    {
     "data": {
      "text/plain": [
       "array([-4.47579528, -1.33019731, -1.08375846, -2.53702349, -0.5100302 ,\n",
       "        1.277721  ,  5.96464354,  0.55206352,  0.81444585, -0.23541866,\n",
       "       -6.06768735, -0.08384424])"
      ]
     },
     "metadata": {},
     "output_type": "display_data"
    },
    {
     "name": "stdout",
     "output_type": "stream",
     "text": [
      "Second Population Data :- \n"
     ]
    },
    {
     "data": {
      "text/plain": [
       "array([ 0.2332706 ,  9.54009568, -0.74501081,  1.16788783, -0.13443811,\n",
       "       -4.52627058,  4.42613373,  2.91222411,  3.06365356, -3.52204247,\n",
       "        5.432999  , -5.42934582])"
      ]
     },
     "metadata": {},
     "output_type": "display_data"
    },
    {
     "name": "stdout",
     "output_type": "stream",
     "text": [
      "Performing One-Way ANOVA Test :-\n",
      "\tP-Value = 0.28486807431129235\n",
      "\tSignificance Level = 0.05\n",
      "\n",
      "Conclusion :-\n",
      "\tFail to reject the null hypothesis: \n",
      "\t\t\t\t\tThe variances are not significantly different.\n"
     ]
    }
   ],
   "source": [
    "import numpy as np\n",
    "from scipy.stats import f_oneway\n",
    "\n",
    "print(\"Given :-\")\n",
    "# Given variances\n",
    "variance1 = 10\n",
    "print(f\"\\tVariance of Frist Populations = {variance1}\")\n",
    "variance2 = 15\n",
    "print(f\"\\tVariance of Second Population = {variance2}\")\n",
    "# Sample sizes\n",
    "n1 = 12\n",
    "print(f\"\\tSample Size of Frist Populations = {n1}\")\n",
    "n2 = 12\n",
    "print(f\"\\tSample Size of Second Population = {n2}\")\n",
    "\n",
    "print(\"\\nGenerate random samples from the populations (you can replace this with your actual data) :-\")\n",
    "population1 = np.random.normal(0, np.sqrt(variance1), n1)\n",
    "print(\"\\nFirst Population Data :-\")\n",
    "display(population1)\n",
    "population2 = np.random.normal(0, np.sqrt(variance2), n2)\n",
    "print(\"Second Population Data :- \")\n",
    "display(population2)\n",
    "\n",
    "print(\"Performing One-Way ANOVA Test :-\")\n",
    "# Perform the F-test\n",
    "_, p_value = f_oneway(population1, population2)\n",
    "print(f\"\\tP-Value = {p_value}\")\n",
    "\n",
    "# Set significance level\n",
    "alpha = 0.05\n",
    "print(f\"\\tSignificance Level = {alpha}\")\n",
    "\n",
    "print(\"\\nConclusion :-\")\n",
    "# Compare the p-value to the significance level\n",
    "if p_value < alpha:\n",
    "    print(\"\\tReject the null hypothesis: \\n\\t\\t\\t\\t\\tThe variances are significantly different.\")\n",
    "else:\n",
    "    print(\"\\tFail to reject the null hypothesis: \\n\\t\\t\\t\\t\\tThe variances are not significantly different.\")"
   ]
  },
  {
   "cell_type": "markdown",
   "metadata": {},
   "source": [
    "--------------------------------------------------------------------------------------------------------------------"
   ]
  },
  {
   "cell_type": "markdown",
   "metadata": {},
   "source": [
    "Q.No-05    A manufacturer claims that the variance of the diameter of a certain product is 0.005. A sample of 25 products is taken, and the sample variance is found to be 0.006. Conduct an F-test at the 1% significance level to determine if the claim is justified."
   ]
  },
  {
   "cell_type": "markdown",
   "metadata": {},
   "source": [
    "Ans :-"
   ]
  },
  {
   "cell_type": "code",
   "execution_count": 5,
   "metadata": {},
   "outputs": [
    {
     "name": "stdout",
     "output_type": "stream",
     "text": [
      "Given Data :-\n",
      "\tSample variance = 0.006\n",
      "\tClaimed Variance = 0.005\n",
      "\tNumber of Product (Sample Size) = 25\n",
      "\n",
      "Calculation :-\n",
      "\tF Statistic = 1.2 \n",
      "\tDegrees of Freedom for numerator = 24\n",
      "\tDegrees of Freedom for denominator = 24\n",
      "\tp value = 0.6587309365634488\n",
      "\n",
      "Significance Level = 0.01\n",
      "\n",
      "Conclusion :-\n",
      "\tFail to reject the null hypothesis. \n",
      "\t\t\t\t\tThe claimed variance is justified.\n"
     ]
    }
   ],
   "source": [
    "import scipy.stats as stats\n",
    "\n",
    "print(\"Given Data :-\")\n",
    "sample_variance = 0.006\n",
    "print(f\"\\tSample variance = {sample_variance}\")\n",
    "claimed_variance = 0.005\n",
    "print(f\"\\tClaimed Variance = {claimed_variance}\")\n",
    "sample_size = 25\n",
    "print(f\"\\tNumber of Product (Sample Size) = {sample_size}\")\n",
    "\n",
    "print(\"\\nCalculation :-\")\n",
    "# Calculate the F-statistic\n",
    "F_statistic = sample_variance / claimed_variance\n",
    "print(f\"\\tF Statistic = {F_statistic} \")\n",
    "\n",
    "# Calculate degrees of freedom\n",
    "df1 = sample_size - 1\n",
    "print(f\"\\tDegrees of Freedom for numerator = {df1}\")\n",
    "df2 = sample_size - 1\n",
    "print(f\"\\tDegrees of Freedom for denominator = {df2}\")\n",
    "\n",
    "# Calculate the p-value\n",
    "p_value = 2 * (1 - stats.f.cdf(F_statistic, df1, df2))\n",
    "print(f\"\\tp value = {p_value}\")\n",
    "\n",
    "# Set the significance level\n",
    "alpha = 0.01\n",
    "print(f\"\\nSignificance Level = {alpha}\")\n",
    "\n",
    "print(\"\\nConclusion :-\")\n",
    "# Determine if the null hypothesis should be rejected\n",
    "if p_value < alpha:\n",
    "    print(\"\\tReject the null hypothesis. \\n\\t\\t\\t\\t\\tThe claimed variance is not justified.\")\n",
    "else:\n",
    "    print(\"\\tFail to reject the null hypothesis. \\n\\t\\t\\t\\t\\tThe claimed variance is justified.\")\n"
   ]
  },
  {
   "cell_type": "markdown",
   "metadata": {},
   "source": [
    "--------------------------------------------------------------------------------------------------------------------"
   ]
  },
  {
   "cell_type": "markdown",
   "metadata": {},
   "source": [
    "Q.No-06    Write a Python function that takes in the degrees of freedom for the numerator and denominator of an F-distribution and calculates the mean and variance of the distribution. The function should return the mean and variance as a tuple."
   ]
  },
  {
   "cell_type": "markdown",
   "metadata": {},
   "source": [
    "Ans :-"
   ]
  },
  {
   "cell_type": "code",
   "execution_count": 6,
   "metadata": {},
   "outputs": [
    {
     "name": "stdout",
     "output_type": "stream",
     "text": [
      "Degrees of freedom for the numerator = 5\n",
      "Degrees of freedom for the denominator = 10\n",
      "Mean: 1.25\n",
      "Variance: 1.3541666666666667\n"
     ]
    }
   ],
   "source": [
    "def calculate_f_distribution_mean_variance(df1, df2):\n",
    "    if df2 <= 2:\n",
    "        raise ValueError(\"The denominator degrees of freedom (df2) must be greater than 2.\")\n",
    "    \n",
    "    mean = df2 / (df2 - 2)\n",
    "    variance = (2 * (df2 ** 2) * (df1 + df2 - 2)) / (df1 * ((df2 - 2) ** 2) * (df2 - 4))\n",
    "    \n",
    "    return mean, variance\n",
    "\n",
    "\n",
    "df1 = 5\n",
    "print(f\"Degrees of freedom for the numerator = {df1}\")\n",
    "df2 = 10\n",
    "print(f\"Degrees of freedom for the denominator = {df2}\")\n",
    "\n",
    "mean, variance = calculate_f_distribution_mean_variance(df1, df2)\n",
    "print(f\"Mean: {mean}\")\n",
    "print(f\"Variance: {variance}\")"
   ]
  },
  {
   "cell_type": "markdown",
   "metadata": {},
   "source": [
    "--------------------------------------------------------------------------------------------------------------------"
   ]
  },
  {
   "cell_type": "markdown",
   "metadata": {},
   "source": [
    "Q.No-07    A random sample of 10 measurements is taken from a normal population with unknown variance. The sample variance is found to be 25. Another random sample of 15 measurements is taken from another normal population with unknown variance, and the sample variance is found to be 20. Conduct an F-test at the 10% significance level to determine if the variances are significantly different."
   ]
  },
  {
   "cell_type": "markdown",
   "metadata": {},
   "source": [
    "Ans :-"
   ]
  },
  {
   "cell_type": "code",
   "execution_count": 7,
   "metadata": {},
   "outputs": [
    {
     "name": "stdout",
     "output_type": "stream",
     "text": [
      "Given Data :-\n",
      "\tVariance Sample 01 = 25\n",
      "\tSample Size of Sample 01 = 10\n",
      "\tVariance Sample 02 = 20\n",
      "\tSample Size of Sample 02 = 15\n",
      "\n",
      "Calculation :-\n",
      "\tDegrees Of Freedom For Sample 01:  9\n",
      "\tDegrees Of Freedom For Sample 02:  14 \n",
      "\n",
      "\n",
      "\tThe value of f statistic = 1.25\n",
      "\tSignificance Level = 0.1\n",
      "\tCritical Value at Significance Level (95%) = 2.6457907352338195 \n",
      "\n",
      "Conclusion :-\n",
      "\tFail to reject the null hypothesis: \n",
      "\t\t\t\t\tVariances are not significantly different\n"
     ]
    }
   ],
   "source": [
    "import scipy.stats as stats\n",
    "\n",
    "print(\"Given Data :-\")\n",
    "# Sample variances\n",
    "variance_sample1 = 25\n",
    "print(f\"\\tVariance Sample 01 = {variance_sample1}\")\n",
    "sample_size1 = 10\n",
    "print(f\"\\tSample Size of Sample 01 = {sample_size1}\")\n",
    "variance_sample2 = 20\n",
    "print(f\"\\tVariance Sample 02 = {variance_sample2}\")\n",
    "sample_size2 = 15\n",
    "print(f\"\\tSample Size of Sample 02 = {sample_size2}\")\n",
    "\n",
    "\n",
    "print(\"\\nCalculation :-\")\n",
    "# Degrees of freedom for the two samples\n",
    "df1 = 10 - 1\n",
    "print(\"\\tDegrees Of Freedom For Sample 01: \", df1)\n",
    "df2 = 15 - 1\n",
    "print(\"\\tDegrees Of Freedom For Sample 02: \", df2, \"\\n\\n\")\n",
    "\n",
    "# Calculate the F-statistic\n",
    "F_statistic = variance_sample1 / variance_sample2\n",
    "print(f\"\\tThe value of f statistic = {F_statistic}\")\n",
    "\n",
    "# Define the significance level\n",
    "alpha = 0.10\n",
    "print(f\"\\tSignificance Level = {alpha}\")\n",
    "\n",
    "# Calculate the critical value for the F-test\n",
    "critical_value = stats.f.ppf(1 - alpha / 2, df1, df2)\n",
    "print(f\"\\tCritical Value at Significance Level ({round((1-(alpha/2))*100)}%) = {critical_value} \")\n",
    "\n",
    "print(\"\\nConclusion :-\")\n",
    "# Compare the F-statistic to the critical value\n",
    "if F_statistic < 1 / critical_value or F_statistic > critical_value:\n",
    "    print(\"\\tReject the null hypothesis: \\n\\t\\t\\t\\t\\tVariances are significantly different\")\n",
    "else:\n",
    "    print(\"\\tFail to reject the null hypothesis: \\n\\t\\t\\t\\t\\tVariances are not significantly different\")\n"
   ]
  },
  {
   "cell_type": "markdown",
   "metadata": {},
   "source": [
    "--------------------------------------------------------------------------------------------------------------------"
   ]
  },
  {
   "cell_type": "markdown",
   "metadata": {},
   "source": [
    "Q.No-09    The following data represent the waiting times in minutes at two different restaurants on a Saturday night: Restaurant A: 24, 25, 28, 23, 22, 20, 27; Restaurant B: 31, 33, 35, 30, 32, 36. Conduct an F-test at the 5% significance level to determine if the variances are significantly different."
   ]
  },
  {
   "cell_type": "markdown",
   "metadata": {},
   "source": [
    "Ans :-"
   ]
  },
  {
   "cell_type": "code",
   "execution_count": 8,
   "metadata": {},
   "outputs": [
    {
     "name": "stdout",
     "output_type": "stream",
     "text": [
      "Given Data :-\n",
      "\n",
      "Waiting times in munutes on a Saturday Night at Restaurant A :\n"
     ]
    },
    {
     "data": {
      "text/plain": [
       "array([24, 25, 28, 23, 22, 20, 27])"
      ]
     },
     "metadata": {},
     "output_type": "display_data"
    },
    {
     "name": "stdout",
     "output_type": "stream",
     "text": [
      "Waiting times in minutes on a Saturday Night at Restaurant B :\n"
     ]
    },
    {
     "data": {
      "text/plain": [
       "array([31, 33, 35, 30, 32, 36])"
      ]
     },
     "metadata": {},
     "output_type": "display_data"
    },
    {
     "name": "stdout",
     "output_type": "stream",
     "text": [
      "Significance Level = 0.05\n",
      "\n",
      "Calculation :-\n",
      "\tDegree Of Freedom for unbiased sample variance = 1\n",
      "\tVariance for Restaurant A = 7.80952380952381\n",
      "\tVariance for Restaurant B = 5.366666666666667\n",
      "\tF Statisticof ANOVA test = 36.42289051820553\n",
      "\tP Value of ANOVA test = 8.487593714710292e-05\n",
      "\n",
      "Conclusion :-\n",
      "\tThe variances are significantly different at the 95.0% significance level.\n"
     ]
    }
   ],
   "source": [
    "import numpy as np\n",
    "from scipy.stats import f_oneway\n",
    "\n",
    "print(\"Given Data :-\")\n",
    "# Data for Restaurant A and Restaurant B\n",
    "restaurant_A = np.array([24, 25, 28, 23, 22, 20, 27])\n",
    "print(\"\\nWaiting times in munutes on a Saturday Night at Restaurant A :\")\n",
    "display(restaurant_A)\n",
    "restaurant_B = np.array([31, 33, 35, 30, 32, 36])\n",
    "print(\"Waiting times in minutes on a Saturday Night at Restaurant B :\")\n",
    "display(restaurant_B)\n",
    "alpha = 0.05\n",
    "print(f\"Significance Level = {alpha}\")\n",
    "\n",
    "\n",
    "print(\"\\nCalculation :-\")\n",
    "ddof = 1\n",
    "print(f\"\\tDegree Of Freedom for unbiased sample variance = {ddof}\")\n",
    "\n",
    "# Calculate the variances\n",
    "variance_A = np.var(restaurant_A, ddof=ddof)\n",
    "print(f\"\\tVariance for Restaurant A = {variance_A}\")\n",
    "variance_B = np.var(restaurant_B, ddof=ddof)\n",
    "print(f\"\\tVariance for Restaurant B = {variance_B}\")\n",
    "\n",
    "# Perform an F-test (ANOVA)\n",
    "f_statistic, p_value = f_oneway(restaurant_A, restaurant_B)\n",
    "print(f\"\\tF Statisticof ANOVA test = {f_statistic}\")\n",
    "print(f\"\\tP Value of ANOVA test = {p_value}\")\n",
    "\n",
    "print(\"\\nConclusion :-\")\n",
    "# Check if the variances are significantly different\n",
    "if p_value < alpha:\n",
    "    print(\"\\tThe variances are significantly different at the {}% significance level.\".format(100*(1-alpha)))\n",
    "else:\n",
    "    print(\"\\tThere is no significant difference in variances at the {}% significance level.\".format(100*(1-alpha)))\n"
   ]
  },
  {
   "cell_type": "markdown",
   "metadata": {},
   "source": [
    "--------------------------------------------------------------------------------------------------------------------"
   ]
  },
  {
   "cell_type": "markdown",
   "metadata": {},
   "source": [
    "Q.No-09    The following data represent the test scores of two groups of students: Group A: 80, 85, 90, 92, 87, 83; Group B: 75, 78, 82, 79, 81, 84. Conduct an F-test at the 1% significance level to determine if the variances are significantly different."
   ]
  },
  {
   "cell_type": "markdown",
   "metadata": {},
   "source": [
    "Ans :-"
   ]
  },
  {
   "cell_type": "code",
   "execution_count": 13,
   "metadata": {},
   "outputs": [
    {
     "name": "stdout",
     "output_type": "stream",
     "text": [
      "Given Data :-\n",
      "\n",
      "Frist Group fo Student :\n"
     ]
    },
    {
     "data": {
      "text/plain": [
       "array([80, 85, 90, 92, 87, 83])"
      ]
     },
     "metadata": {},
     "output_type": "display_data"
    },
    {
     "name": "stdout",
     "output_type": "stream",
     "text": [
      "Second group of student :\n"
     ]
    },
    {
     "data": {
      "text/plain": [
       "array([75, 78, 82, 79, 81, 84])"
      ]
     },
     "metadata": {},
     "output_type": "display_data"
    },
    {
     "name": "stdout",
     "output_type": "stream",
     "text": [
      "Calculation :-\n",
      "\tDegree Of Freedom for sample variance = 1\n",
      "\tVariances for Group A = 19.76666666666667\n",
      "\tVariances for Group B = 10.166666666666666\n",
      "\n",
      "\n",
      "\tF-Statistic = 1.9442622950819677\n",
      "\tDefine the degrees of freedom for Group A = 5\n",
      "\tDefine the degrees of freedom for Group B = 5\n",
      "\tP Value = 0.2415521774535344\n",
      "\n",
      "Significance Level = 0.01\n",
      "\n",
      "Conclusion :-\n",
      "\tFail to reject the null hypothesis. \n",
      "\t\t\t\t\tVariances are not significantly different.\n"
     ]
    }
   ],
   "source": [
    "import numpy as np\n",
    "from scipy.stats import f\n",
    "\n",
    "print(\"Given Data :-\")\n",
    "# Define the data for Group A and Group B\n",
    "group_a = np.array([80, 85, 90, 92, 87, 83])\n",
    "print(f\"\\nFrist Group fo Student :\")\n",
    "display(group_a)\n",
    "group_b = np.array([75, 78, 82, 79, 81, 84])\n",
    "print(\"Second group of student :\")\n",
    "display(group_b)\n",
    "\n",
    "print(\"Calculation :-\")\n",
    "ddof = 1\n",
    "print(f\"\\tDegree Of Freedom for sample variance = {ddof}\")\n",
    "# Calculate the variances for each group\n",
    "variance_a = np.var(group_a, ddof=ddof)\n",
    "print(f\"\\tVariances for Group A = {variance_a}\")  \n",
    "variance_b = np.var(group_b, ddof=ddof)\n",
    "print(f\"\\tVariances for Group B = {variance_b}\\n\\n\")\n",
    "\n",
    "# Calculate the F-statistic\n",
    "f_statistic = variance_a / variance_b\n",
    "print(f\"\\tF-Statistic = {f_statistic}\")\n",
    "\n",
    "# Define the degrees of freedom for each group\n",
    "df_a = len(group_a) - 1\n",
    "print(f\"\\tDefine the degrees of freedom for Group A = {df_a}\")\n",
    "df_b = len(group_b) - 1\n",
    "print(f\"\\tDefine the degrees of freedom for Group B = {df_b}\")\n",
    "\n",
    "# Calculate the p-value for the F-statistic\n",
    "p_value = 1 - f.cdf(f_statistic, df_a, df_b)\n",
    "print(f\"\\tP Value = {p_value}\")\n",
    "\n",
    "# Set the significance level\n",
    "alpha = 0.01\n",
    "print(f\"\\nSignificance Level = {alpha}\")\n",
    "\n",
    "\n",
    "print(\"\\nConclusion :-\")\n",
    "# Determine if the variances are significantly different\n",
    "if p_value < alpha:\n",
    "    print(\"\\tReject the null hypothesis. \\n\\t\\t\\t\\t\\tVariances are significantly different.\")\n",
    "else:\n",
    "    print(\"\\tFail to reject the null hypothesis. \\n\\t\\t\\t\\t\\tVariances are not significantly different.\")\n"
   ]
  },
  {
   "cell_type": "markdown",
   "metadata": {},
   "source": [
    "                                        END"
   ]
  }
 ],
 "metadata": {
  "kernelspec": {
   "display_name": "Python 3",
   "language": "python",
   "name": "python3"
  },
  "language_info": {
   "codemirror_mode": {
    "name": "ipython",
    "version": 3
   },
   "file_extension": ".py",
   "mimetype": "text/x-python",
   "name": "python",
   "nbconvert_exporter": "python",
   "pygments_lexer": "ipython3",
   "version": "3.9.13"
  },
  "orig_nbformat": 4
 },
 "nbformat": 4,
 "nbformat_minor": 2
}
